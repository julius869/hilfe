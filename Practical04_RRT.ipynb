{
 "cells": [
  {
   "cell_type": "markdown",
   "metadata": {
    "cell_id": "ec1957bb-4458-44fe-9118-fc7da6abca28",
    "deepnote_cell_height": 82,
    "deepnote_cell_type": "markdown"
   },
   "source": [
    "# Practical 04 - RRT Algorithm"
   ]
  },
  {
   "cell_type": "code",
   "execution_count": 41,
   "metadata": {
    "cell_id": "00002-fba18cb0-f4d6-49fc-91e7-5522d5ac8ce2",
    "deepnote_cell_height": 405,
    "deepnote_cell_type": "code",
    "deepnote_to_be_reexecuted": false,
    "execution_millis": 1,
    "execution_start": 1658110936275,
    "source_hash": "6715108f"
   },
   "outputs": [],
   "source": [
    "from Practical04_Support.Obstacle import *\n",
    "from Practical04_Support.path_animation import *\n",
    "import meshcat.geometry as g\n",
    "import meshcat.transformations as tf\n",
    "import os\n",
    "\n",
    "from ece4078.Utility import StartMeshcat\n",
    "\n",
    "import numpy as np\n",
    "import random\n",
    "\n",
    "# Import dependencies and set random seed\n",
    "seed_value = 5\n",
    "# 1. Set `PYTHONHASHSEED` environment variable at a fixed value\n",
    "os.environ['PYTHONHASHSEED'] = str(seed_value)\n",
    "# 2. Set `python` built-in pseudo-random generator at a fixed value\n",
    "random.seed(seed_value)\n",
    "# 3. Set `numpy` pseudo-random generator at a fixed value\n",
    "np.random.seed(seed_value)"
   ]
  },
  {
   "cell_type": "code",
   "execution_count": 42,
   "metadata": {
    "cell_id": "8fc9493961f34b7e9efc9621284eb18a",
    "deepnote_cell_height": 182.39999389648438,
    "deepnote_cell_type": "code",
    "deepnote_output_heights": [
     null,
     21
    ],
    "deepnote_to_be_reexecuted": false,
    "execution_millis": 24,
    "execution_start": 1658110938520,
    "source_hash": "34afddb1",
    "tags": []
   },
   "outputs": [
    {
     "name": "stdout",
     "output_type": "stream",
     "text": [
      "You can open the visualizer by visiting the following URL:\n",
      "http://127.0.0.1:7019/static/\n"
     ]
    },
    {
     "data": {
      "text/html": [
       "Meshcat URL if you are on local machine: <a href='http://127.0.0.1:7019/static/' target='_blank'>http://127.0.0.1:7019/static/</a>"
      ],
      "text/plain": [
       "<IPython.core.display.HTML object>"
      ]
     },
     "metadata": {},
     "output_type": "display_data"
    }
   ],
   "source": [
    "vis = StartMeshcat()"
   ]
  },
  {
   "cell_type": "markdown",
   "metadata": {
    "cell_id": "00003-ed3bc528-6069-47b8-b485-baaeaac1daa2",
    "deepnote_cell_height": 523.4000244140625,
    "deepnote_cell_type": "markdown"
   },
   "source": [
    "The class below shows a possible implementation of the RRT planning algorithm. The main methods are:\n",
    "\n",
    "``get_random_node(.)``, this method uniformly samples a new point in the space.\n",
    "\n",
    "``get_nearest_node_index(.)``, this method finds the index of the node in the tree that is the closest to a query node.\n",
    "\n",
    "``steer(.)``, given two nodes n_expansion and n_random to_node, this method generate a node n_nearby such that n_nearby is “closer” to n_random than to n_expansion.\n",
    "\n",
    "``is_collision_free(.)``, this method determines whether a new node is within the free-collision space\n",
    "\n",
    "``planning(.)``, this is the main algorithm. Starting with a node at the start location, this method incrementally adds new nodes to the tree roadmap. The main steps are:\n",
    "\n",
    "1. Generate a random node ``rnd_node``\n",
    "\n",
    "2. Select the node in the tree that is the closest ``rnd_node``. We refer to this node as ``expansion_node``.\n",
    "\n",
    "3. Choose a collision-free node along the path between ``expansion_node`` and ``rnd_node``. Add the new node to the tree roadmap. This is done by using the ``steer(.)`` and ``is_collision_free(.)`` methods one after the other.\n",
    "\n",
    "4. Repeat steps 1 to 3 until the maximum number of nodes has been reached or a path between start and goal nodes has been found.\n",
    "\n",
    "**TODO**:\n",
    "- Complete the ``planning(.)`` method. \n"
   ]
  },
  {
   "cell_type": "code",
   "execution_count": 91,
   "metadata": {},
   "outputs": [
    {
     "name": "stdout",
     "output_type": "stream",
     "text": [
      "(['garlic', 'capsicum', 'lime', 'lemon', 'orange', 'orange', 'pumpkin', 'potato', 'potato', 'tomato'], array([[ 0.7, -0.6],\n",
      "       [ 0.2, -1. ],\n",
      "       [-1.1, -0.1],\n",
      "       [-0.4, -1.2],\n",
      "       [-0.8,  0.5],\n",
      "       [ 0. ,  0.9],\n",
      "       [-0.6,  1.2],\n",
      "       [-0.6, -0.7],\n",
      "       [ 0.3,  0.4],\n",
      "       [ 0.8,  0.8]]), array([[ 1.2,  0.8],\n",
      "       [ 1.1, -0.6],\n",
      "       [ 0.8, -1.2],\n",
      "       [-0.3, -0.7],\n",
      "       [ 0. ,  1.2],\n",
      "       [-0.6,  0. ],\n",
      "       [-0.4,  0.8],\n",
      "       [-0.8, -1.2],\n",
      "       [-1.2,  0.4],\n",
      "       [ 0.8,  0. ]]))\n"
     ]
    }
   ],
   "source": [
    "def read_true_map(fname):\n",
    "    \"\"\"Read the ground truth map and output the pose of the ArUco markers and 5 target fruits&vegs to search for\n",
    "\n",
    "    @param fname: filename of the map\n",
    "    @return:\n",
    "        1) list of targets, e.g. ['lemon', 'tomato', 'garlic']\n",
    "        2) locations of the targets, [[x1, y1], ..... [xn, yn]]\n",
    "        3) locations of ArUco markers in order, i.e. pos[9, :] = position of the aruco10_0 marker\n",
    "    \"\"\"\n",
    "    with open(fname, 'r') as fd:\n",
    "        gt_dict = json.load(fd)\n",
    "        fruit_list = []\n",
    "        fruit_true_pos = []\n",
    "        aruco_true_pos = np.empty([10, 2])\n",
    "\n",
    "        # remove unique id of targets of the same type\n",
    "        for key in gt_dict:\n",
    "            x = np.round(gt_dict[key]['x'], 1)\n",
    "            y = np.round(gt_dict[key]['y'], 1)\n",
    "\n",
    "            if key.startswith('aruco'):\n",
    "                if key.startswith('aruco10'):\n",
    "                    aruco_true_pos[9][0] = x\n",
    "                    aruco_true_pos[9][1] = y\n",
    "                else:\n",
    "                    marker_id = int(key[5]) - 1\n",
    "                    aruco_true_pos[marker_id][0] = x\n",
    "                    aruco_true_pos[marker_id][1] = y\n",
    "            else:\n",
    "                fruit_list.append(key[:-2])\n",
    "                if len(fruit_true_pos) == 0:\n",
    "                    fruit_true_pos = np.array([[x, y]])\n",
    "                else:\n",
    "                    fruit_true_pos = np.append(fruit_true_pos, [[x, y]], axis=0)\n",
    "\n",
    "        return fruit_list, fruit_true_pos, aruco_true_pos\n",
    "\n",
    "map_filename = 'M4_true_map_full.txt'\n",
    "print(read_true_map(map_filename))\n"
   ]
  },
  {
   "cell_type": "code",
   "execution_count": 45,
   "metadata": {},
   "outputs": [
    {
     "name": "stdout",
     "output_type": "stream",
     "text": [
      "['garlic', 'lemon', 'lime', 'tomato', 'pumpkin']\n"
     ]
    }
   ],
   "source": [
    "def read_search_list():\n",
    "    \"\"\"Read the search order of the target fruits\n",
    "\n",
    "    @return: search order of the target fruits\n",
    "    \"\"\"\n",
    "    search_list = []\n",
    "    with open('search_list.txt', 'r') as fd:\n",
    "        fruits = fd.readlines()\n",
    "\n",
    "        for fruit in fruits:\n",
    "            search_list.append(fruit.strip())\n",
    "\n",
    "    return search_list\n",
    "search_list = read_search_list()\n",
    "print(search_list)"
   ]
  },
  {
   "cell_type": "code",
   "execution_count": 82,
   "metadata": {
    "cell_id": "00004-e671223d-3cc6-4348-8117-8901aee2ac38",
    "deepnote_cell_height": 3213,
    "deepnote_cell_type": "code",
    "deepnote_to_be_reexecuted": false,
    "execution_millis": 2,
    "execution_start": 1658110941376,
    "source_hash": "b88059e"
   },
   "outputs": [
    {
     "name": "stdout",
     "output_type": "stream",
     "text": [
      "You can open the visualizer by visiting the following URL:\n",
      "http://127.0.0.1:7039/static/\n"
     ]
    },
    {
     "data": {
      "text/html": [
       "Meshcat URL if you are on local machine: <a href='http://127.0.0.1:7039/static/' target='_blank'>http://127.0.0.1:7039/static/</a>"
      ],
      "text/plain": [
       "<IPython.core.display.HTML object>"
      ]
     },
     "metadata": {},
     "output_type": "display_data"
    },
    {
     "name": "stdout",
     "output_type": "stream",
     "text": [
      "<class 'list'>\n",
      "<class 'Practical04_Support.Obstacle.Circle'>\n",
      "<class 'Practical04_Support.Obstacle.Circle'>\n",
      "<class 'Practical04_Support.Obstacle.Circle'>\n",
      "<class 'Practical04_Support.Obstacle.Circle'>\n",
      "<class 'Practical04_Support.Obstacle.Circle'>\n",
      "<class 'Practical04_Support.Obstacle.Circle'>\n",
      "<class 'Practical04_Support.Obstacle.Circle'>\n",
      "<class 'Practical04_Support.Obstacle.Circle'>\n",
      "<class 'Practical04_Support.Obstacle.Circle'>\n",
      "<class 'Practical04_Support.Obstacle.Circle'>\n"
     ]
    },
    {
     "data": {
      "application/vnd.jupyter.widget-view+json": {
       "model_id": "14e43f736abb4182a0bd910caa0f4de8",
       "version_major": 2,
       "version_minor": 0
      },
      "text/plain": [
       "HTML(value='\\n                <div style=\"height: 500px; width: 100%; overflow-x: auto; overflow-y: hidden; re…"
      ]
     },
     "metadata": {},
     "output_type": "display_data"
    }
   ],
   "source": [
    "# This is an adapted version of the RRT implementation done by Atsushi Sakai (@Atsushi_twi)\n",
    "from Practical04_Support.Obstacle import *\n",
    "from Practical04_Support.path_animation import *\n",
    "import meshcat.geometry as g\n",
    "import meshcat.transformations as tf\n",
    "import os\n",
    "\n",
    "from ece4078.Utility import StartMeshcat\n",
    "\n",
    "import numpy as np\n",
    "import random\n",
    "\n",
    "# Import dependencies and set random seed\n",
    "seed_value = 5\n",
    "# 1. Set `PYTHONHASHSEED` environment variable at a fixed value\n",
    "os.environ['PYTHONHASHSEED'] = str(seed_value)\n",
    "# 2. Set `python` built-in pseudo-random generator at a fixed value\n",
    "random.seed(seed_value)\n",
    "# 3. Set `numpy` pseudo-random generator at a fixed value\n",
    "np.random.seed(seed_value)\n",
    "\n",
    "vis = StartMeshcat()\n",
    "\n",
    "class RRT:\n",
    "    \"\"\"\n",
    "    Class for RRT planning\n",
    "    \"\"\"\n",
    "\n",
    "    class Node:\n",
    "        \"\"\"\n",
    "        RRT Node\n",
    "        \"\"\"\n",
    "\n",
    "        def __init__(self, x, y):\n",
    "            self.x = x\n",
    "            self.y = y\n",
    "            self.path_x = []\n",
    "            self.path_y = []\n",
    "            self.parent = None\n",
    "\n",
    "    def __init__(self, start,\n",
    "                 goal,\n",
    "                 obstacle_list,\n",
    "                 width,\n",
    "                 height,\n",
    "                 expand_dis, \n",
    "                 path_resolution, \n",
    "                 max_points):\n",
    "        \"\"\"\n",
    "        Setting Parameter\n",
    "        start:Start Position [x,y]\n",
    "        goal:Goal Position [x,y]\n",
    "        obstacle_list: list of obstacle objects\n",
    "        width, height: search area\n",
    "        expand_dis: min distance between random node and closest node in rrt to it\n",
    "        path_resolion: step size to considered when looking for node to expand\n",
    "        \"\"\"\n",
    "        self.start = self.Node(start[0], start[1])\n",
    "        self.end = self.Node(goal[0], goal[1])\n",
    "        self.width = width\n",
    "        self.height = height\n",
    "        self.expand_dis = expand_dis\n",
    "        self.path_resolution = path_resolution\n",
    "        self.max_nodes = max_points\n",
    "        self.obstacle_list = obstacle_list\n",
    "        self.node_list = []\n",
    "\n",
    "    def planning(self, animation=True):\n",
    "        \"\"\"\n",
    "        rrt path planning\n",
    "        animation: flag for animation on or off\n",
    "        \"\"\"\n",
    "\n",
    "        self.node_list = [self.start]\n",
    "        while len(self.node_list) <= self.max_nodes:\n",
    "            \n",
    "            # 1. Generate a random node           \n",
    "            rnd_node = self.get_random_node()\n",
    "            \n",
    "            # 2. Find node in tree that is closest to sampled node.\n",
    "            # This is the node to be expanded (q_expansion)\n",
    "            expansion_ind = self.get_nearest_node_index(self.node_list, rnd_node)\n",
    "            expansion_node = self.node_list[expansion_ind]\n",
    "\n",
    "            #TODO:  Complete the last two main steps of the RRT algorithm ----------------\n",
    "            # 3. Select a node (nearby_node) close to expansion_node by moving from expantion_node to rnd_node\n",
    "            # Use the steer method\n",
    "            nearby_node = self.steer(expansion_node, rnd_node, self.expand_dis)\n",
    "            # 4. Check if nearby_node is in free space (i.e., it is collision free). If collision free, add node\n",
    "            # to self.node_list\n",
    "            if self.is_collision_free(nearby_node):\n",
    "                self.node_list.append(nearby_node)\n",
    "                if self.calc_dist_to_goal(self.node_list[-1].x, self.node_list[-1].y) <= self.expand_dis:\n",
    "                    final_node = self.steer(self.node_list[-1], self.end, self.expand_dis)\n",
    "                    if self.is_collision_free(final_node):\n",
    "                        return self.generate_final_course(len(self.node_list) - 1)\n",
    "            # Please remove return None when you start coding\n",
    "            \n",
    "            #ENDTODO -----------------------------------------------------------------------\n",
    "                \n",
    "            # If we are close to goal, stop expansion and generate path\n",
    "            if self.calc_dist_to_goal(self.node_list[-1].x, self.node_list[-1].y) <= self.expand_dis:\n",
    "                final_node = self.steer(self.node_list[-1], self.end, self.expand_dis)\n",
    "                if self.is_collision_free(final_node):\n",
    "                    return self.generate_final_course(len(self.node_list) - 1)\n",
    "\n",
    "        return None  # cannot find path\n",
    "\n",
    "    \n",
    "    def steer(self, from_node, to_node, extend_length=float(\"inf\")):\n",
    "        \"\"\"\n",
    "        Given two nodes from_node, to_node, this method returns a node new_node such that new_node \n",
    "        is “closer” to to_node than from_node is.\n",
    "        \"\"\"\n",
    "        \n",
    "        new_node = self.Node(from_node.x, from_node.y)\n",
    "        d, theta = self.calc_distance_and_angle(new_node, to_node)\n",
    "        cos_theta, sin_theta = np.cos(theta), np.sin(theta)\n",
    "\n",
    "        new_node.path_x = [new_node.x]\n",
    "        new_node.path_y = [new_node.y]\n",
    "\n",
    "        if extend_length > d:\n",
    "            extend_length = d\n",
    "\n",
    "        # How many intermediate positions are considered between from_node and to_node\n",
    "        n_expand = math.floor(extend_length / self.path_resolution)\n",
    "\n",
    "        # Compute all intermediate positions\n",
    "        for _ in range(n_expand):\n",
    "            new_node.x += self.path_resolution * cos_theta\n",
    "            new_node.y += self.path_resolution * sin_theta\n",
    "            new_node.path_x.append(new_node.x)\n",
    "            new_node.path_y.append(new_node.y)\n",
    "\n",
    "        d, _ = self.calc_distance_and_angle(new_node, to_node)\n",
    "        if d <= self.path_resolution:\n",
    "            new_node.path_x.append(to_node.x)\n",
    "            new_node.path_y.append(to_node.y)\n",
    "\n",
    "        new_node.parent = from_node\n",
    "\n",
    "        return new_node\n",
    "\n",
    "\n",
    "    def is_collision_free(self, new_node):\n",
    "        \"\"\"\n",
    "        Determine if nearby_node (new_node) is in the collision-free space.\n",
    "        \"\"\"\n",
    "        if new_node is None:\n",
    "            return True\n",
    "\n",
    "        points = np.vstack((new_node.path_x, new_node.path_y)).T\n",
    "        for obs in self.obstacle_list:\n",
    "            in_collision = obs.is_in_collision_with_points(points)\n",
    "            if in_collision:\n",
    "                return False\n",
    "        \n",
    "        return True  # safe\n",
    "        \n",
    "    \n",
    "    def generate_final_course(self, goal_ind):\n",
    "        \"\"\"\n",
    "        Reconstruct path from start to end node\n",
    "        \"\"\"\n",
    "        path = [[self.end.x, self.end.y]]\n",
    "        node = self.node_list[goal_ind]\n",
    "        while node.parent is not None:\n",
    "            path.append([node.x, node.y])\n",
    "            node = node.parent\n",
    "        path.append([node.x, node.y])\n",
    "\n",
    "        return path\n",
    "\n",
    "    def calc_dist_to_goal(self, x, y):\n",
    "        dx = x - self.end.x\n",
    "        dy = y - self.end.y\n",
    "        return math.hypot(dx, dy)\n",
    "\n",
    "    def get_random_node(self):\n",
    "        x = self.width * np.random.random_sample()-1.5\n",
    "        y = self.height * np.random.random_sample()-1.5\n",
    "        rnd = self.Node(x, y)\n",
    "        return rnd\n",
    "\n",
    "    @staticmethod\n",
    "    def get_nearest_node_index(node_list, rnd_node):\n",
    "        # Compute Euclidean disteance between rnd_node and all nodes in tree\n",
    "        # Return index of closest element\n",
    "        dlist = [(node.x - rnd_node.x) ** 2 + (node.y - rnd_node.y)\n",
    "                 ** 2 for node in node_list]\n",
    "        minind = dlist.index(min(dlist))\n",
    "\n",
    "        return minind\n",
    "\n",
    "    @staticmethod\n",
    "    def calc_distance_and_angle(from_node, to_node):\n",
    "        dx = to_node.x - from_node.x\n",
    "        dy = to_node.y - from_node.y\n",
    "        d = math.hypot(dx, dy) #returns the Euclidean norm\n",
    "        theta = math.atan2(dy, dx)\n",
    "        return d, theta \n",
    "\n",
    "goal = np.array([-1.0, 1.0])\n",
    "start = np.array([1.0, 0.0])\n",
    "\n",
    "\n",
    "all_obstacles = [Circle(0.7, -0.1, 0.1), Circle(0.1, -0.3, 0.1), Circle(0.5, -0.7, 0.1), Circle(-0.2, 0.4, 0.1), Circle(-0.5, -0.5, 0.1), Circle(-0.8, -0.9, 0.1), Circle(-1.2, -0.2, 0.1), Circle(-0.7, 0.2, 0.1), Circle(-0.9, 0.8, 0.1), Circle(0.9, 1.0, 0.1)]\n",
    "print(type([Circle(0.7, -0.1, 0.1), Circle(0.1, -0.3, 0.1), Circle(0.5, -0.7, 0.1), Circle(-0.2, 0.4, 0.1), Circle(-0.5, -0.5, 0.1), Circle(-0.8, -0.9, 0.1), Circle(-1.2, -0.2, 0.1), Circle(-0.7, 0.2, 0.1), Circle(-0.9, 0.8, 0.1), Circle(0.9, 1.0, 0.1)]))\n",
    "for item in all_obstacles:\n",
    "    print(type(item))\n",
    "rrt = RRT(start=start, goal=goal, width=3, height=3, obstacle_list=all_obstacles,\n",
    "          expand_dis=0.2, path_resolution=0.2, max_points=200)  \n",
    "\n",
    "vis.delete()\n",
    "vis.Set2DView(scale=20, center=[-1.5, 1.5, 1.5, -1.5])  # Set the center with valid coordinates\n",
    "animate_path_rrt(vis, rrt)  # Remove map_width and map_height arguments\n",
    "display(vis.show_inline(height=500))\n",
    "\n"
   ]
  }
 ],
 "metadata": {
  "deepnote": {},
  "deepnote_execution_queue": [],
  "deepnote_notebook_id": "ff01b180-3e66-4bfc-bc86-c2dead3fb2f1",
  "kernelspec": {
   "display_name": "Python 3 (ipykernel)",
   "language": "python",
   "name": "python3"
  },
  "language_info": {
   "codemirror_mode": {
    "name": "ipython",
    "version": 3
   },
   "file_extension": ".py",
   "mimetype": "text/x-python",
   "name": "python",
   "nbconvert_exporter": "python",
   "pygments_lexer": "ipython3",
   "version": "3.11.5"
  },
  "vscode": {
   "interpreter": {
    "hash": "916dbcbb3f70747c44a77c7bcd40155683ae19c65e1c03b4aa3499c5328201f1"
   }
  }
 },
 "nbformat": 4,
 "nbformat_minor": 4
}
